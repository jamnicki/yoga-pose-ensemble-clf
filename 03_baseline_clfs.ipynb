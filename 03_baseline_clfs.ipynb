{
 "cells": [
  {
   "cell_type": "code",
   "execution_count": 1,
   "metadata": {},
   "outputs": [],
   "source": [
    "import pandas as pd\n",
    "import random\n",
    "import numpy as np\n",
    "\n",
    "TARGET_COL = \"pose\"\n",
    "SEED = 42\n",
    "\n",
    "random.seed(SEED)\n",
    "np.random.seed(SEED)"
   ]
  },
  {
   "cell_type": "code",
   "execution_count": 2,
   "metadata": {},
   "outputs": [
    {
     "data": {
      "text/html": [
       "<div>\n",
       "<style scoped>\n",
       "    .dataframe tbody tr th:only-of-type {\n",
       "        vertical-align: middle;\n",
       "    }\n",
       "\n",
       "    .dataframe tbody tr th {\n",
       "        vertical-align: top;\n",
       "    }\n",
       "\n",
       "    .dataframe thead th {\n",
       "        text-align: right;\n",
       "    }\n",
       "</style>\n",
       "<table border=\"1\" class=\"dataframe\">\n",
       "  <thead>\n",
       "    <tr style=\"text-align: right;\">\n",
       "      <th></th>\n",
       "      <th>pose</th>\n",
       "      <th>nose_x</th>\n",
       "      <th>nose_y</th>\n",
       "      <th>left_eye_x</th>\n",
       "      <th>left_eye_y</th>\n",
       "      <th>right_eye_x</th>\n",
       "      <th>right_eye_y</th>\n",
       "      <th>left_ear_x</th>\n",
       "      <th>left_ear_y</th>\n",
       "      <th>right_ear_x</th>\n",
       "      <th>...</th>\n",
       "      <th>right_hip_x</th>\n",
       "      <th>right_hip_y</th>\n",
       "      <th>left_knee_x</th>\n",
       "      <th>left_knee_y</th>\n",
       "      <th>right_knee_x</th>\n",
       "      <th>right_knee_y</th>\n",
       "      <th>left_ankle_x</th>\n",
       "      <th>left_ankle_y</th>\n",
       "      <th>right_ankle_x</th>\n",
       "      <th>right_ankle_y</th>\n",
       "    </tr>\n",
       "  </thead>\n",
       "  <tbody>\n",
       "    <tr>\n",
       "      <th>0</th>\n",
       "      <td>hanumanasana</td>\n",
       "      <td>0.261698</td>\n",
       "      <td>0.512255</td>\n",
       "      <td>0.237344</td>\n",
       "      <td>0.517355</td>\n",
       "      <td>0.238441</td>\n",
       "      <td>0.486026</td>\n",
       "      <td>0.242483</td>\n",
       "      <td>0.497878</td>\n",
       "      <td>0.248089</td>\n",
       "      <td>...</td>\n",
       "      <td>0.651845</td>\n",
       "      <td>0.414223</td>\n",
       "      <td>0.678855</td>\n",
       "      <td>0.221365</td>\n",
       "      <td>0.722782</td>\n",
       "      <td>0.674401</td>\n",
       "      <td>0.683820</td>\n",
       "      <td>0.050615</td>\n",
       "      <td>0.795440</td>\n",
       "      <td>0.924660</td>\n",
       "    </tr>\n",
       "    <tr>\n",
       "      <th>1</th>\n",
       "      <td>hanumanasana</td>\n",
       "      <td>0.394864</td>\n",
       "      <td>0.491497</td>\n",
       "      <td>0.370693</td>\n",
       "      <td>0.487102</td>\n",
       "      <td>0.375714</td>\n",
       "      <td>0.461120</td>\n",
       "      <td>0.381811</td>\n",
       "      <td>0.450995</td>\n",
       "      <td>0.400140</td>\n",
       "      <td>...</td>\n",
       "      <td>0.807697</td>\n",
       "      <td>0.396388</td>\n",
       "      <td>0.854739</td>\n",
       "      <td>0.710447</td>\n",
       "      <td>0.805349</td>\n",
       "      <td>0.174530</td>\n",
       "      <td>0.908731</td>\n",
       "      <td>0.943022</td>\n",
       "      <td>0.702517</td>\n",
       "      <td>0.003883</td>\n",
       "    </tr>\n",
       "    <tr>\n",
       "      <th>2</th>\n",
       "      <td>hanumanasana</td>\n",
       "      <td>0.430713</td>\n",
       "      <td>0.753430</td>\n",
       "      <td>0.439265</td>\n",
       "      <td>0.780632</td>\n",
       "      <td>0.419011</td>\n",
       "      <td>0.763575</td>\n",
       "      <td>0.482887</td>\n",
       "      <td>0.787360</td>\n",
       "      <td>0.431683</td>\n",
       "      <td>...</td>\n",
       "      <td>0.622483</td>\n",
       "      <td>0.486750</td>\n",
       "      <td>0.743239</td>\n",
       "      <td>0.589924</td>\n",
       "      <td>0.719260</td>\n",
       "      <td>0.579058</td>\n",
       "      <td>0.728648</td>\n",
       "      <td>0.731057</td>\n",
       "      <td>0.723543</td>\n",
       "      <td>0.732710</td>\n",
       "    </tr>\n",
       "    <tr>\n",
       "      <th>3</th>\n",
       "      <td>hanumanasana</td>\n",
       "      <td>0.369197</td>\n",
       "      <td>0.440116</td>\n",
       "      <td>0.368485</td>\n",
       "      <td>0.460600</td>\n",
       "      <td>0.366005</td>\n",
       "      <td>0.458955</td>\n",
       "      <td>0.407975</td>\n",
       "      <td>0.471238</td>\n",
       "      <td>0.402241</td>\n",
       "      <td>...</td>\n",
       "      <td>0.778978</td>\n",
       "      <td>0.435595</td>\n",
       "      <td>0.848863</td>\n",
       "      <td>0.726469</td>\n",
       "      <td>0.786196</td>\n",
       "      <td>0.241361</td>\n",
       "      <td>0.854160</td>\n",
       "      <td>0.963011</td>\n",
       "      <td>0.808341</td>\n",
       "      <td>0.036816</td>\n",
       "    </tr>\n",
       "    <tr>\n",
       "      <th>4</th>\n",
       "      <td>hanumanasana</td>\n",
       "      <td>0.262922</td>\n",
       "      <td>0.548760</td>\n",
       "      <td>0.245587</td>\n",
       "      <td>0.531681</td>\n",
       "      <td>0.244322</td>\n",
       "      <td>0.532350</td>\n",
       "      <td>0.257699</td>\n",
       "      <td>0.483209</td>\n",
       "      <td>0.258080</td>\n",
       "      <td>...</td>\n",
       "      <td>0.624212</td>\n",
       "      <td>0.459428</td>\n",
       "      <td>0.690590</td>\n",
       "      <td>0.708224</td>\n",
       "      <td>0.755988</td>\n",
       "      <td>0.298930</td>\n",
       "      <td>0.741362</td>\n",
       "      <td>0.910159</td>\n",
       "      <td>0.699116</td>\n",
       "      <td>0.092350</td>\n",
       "    </tr>\n",
       "  </tbody>\n",
       "</table>\n",
       "<p>5 rows × 35 columns</p>\n",
       "</div>"
      ],
      "text/plain": [
       "           pose    nose_x    nose_y  left_eye_x  left_eye_y  right_eye_x  \\\n",
       "0  hanumanasana  0.261698  0.512255    0.237344    0.517355     0.238441   \n",
       "1  hanumanasana  0.394864  0.491497    0.370693    0.487102     0.375714   \n",
       "2  hanumanasana  0.430713  0.753430    0.439265    0.780632     0.419011   \n",
       "3  hanumanasana  0.369197  0.440116    0.368485    0.460600     0.366005   \n",
       "4  hanumanasana  0.262922  0.548760    0.245587    0.531681     0.244322   \n",
       "\n",
       "   right_eye_y  left_ear_x  left_ear_y  right_ear_x  ...  right_hip_x  \\\n",
       "0     0.486026    0.242483    0.497878     0.248089  ...     0.651845   \n",
       "1     0.461120    0.381811    0.450995     0.400140  ...     0.807697   \n",
       "2     0.763575    0.482887    0.787360     0.431683  ...     0.622483   \n",
       "3     0.458955    0.407975    0.471238     0.402241  ...     0.778978   \n",
       "4     0.532350    0.257699    0.483209     0.258080  ...     0.624212   \n",
       "\n",
       "   right_hip_y  left_knee_x  left_knee_y  right_knee_x  right_knee_y  \\\n",
       "0     0.414223     0.678855     0.221365      0.722782      0.674401   \n",
       "1     0.396388     0.854739     0.710447      0.805349      0.174530   \n",
       "2     0.486750     0.743239     0.589924      0.719260      0.579058   \n",
       "3     0.435595     0.848863     0.726469      0.786196      0.241361   \n",
       "4     0.459428     0.690590     0.708224      0.755988      0.298930   \n",
       "\n",
       "   left_ankle_x  left_ankle_y  right_ankle_x  right_ankle_y  \n",
       "0      0.683820      0.050615       0.795440       0.924660  \n",
       "1      0.908731      0.943022       0.702517       0.003883  \n",
       "2      0.728648      0.731057       0.723543       0.732710  \n",
       "3      0.854160      0.963011       0.808341       0.036816  \n",
       "4      0.741362      0.910159       0.699116       0.092350  \n",
       "\n",
       "[5 rows x 35 columns]"
      ]
     },
     "execution_count": 2,
     "metadata": {},
     "output_type": "execute_result"
    }
   ],
   "source": [
    "df = pd.read_csv(\"data/yoga_ds_Xy.csv\")\n",
    "df.head()"
   ]
  },
  {
   "cell_type": "code",
   "execution_count": 3,
   "metadata": {},
   "outputs": [],
   "source": [
    "unique_poses = df[\"pose\"].unique()"
   ]
  },
  {
   "cell_type": "code",
   "execution_count": 4,
   "metadata": {},
   "outputs": [
    {
     "data": {
      "text/plain": [
       "(107,)"
      ]
     },
     "execution_count": 4,
     "metadata": {},
     "output_type": "execute_result"
    }
   ],
   "source": [
    "unique_poses.shape"
   ]
  },
  {
   "cell_type": "code",
   "execution_count": 5,
   "metadata": {},
   "outputs": [
    {
     "data": {
      "text/plain": [
       "(5994, 35)"
      ]
     },
     "execution_count": 5,
     "metadata": {},
     "output_type": "execute_result"
    }
   ],
   "source": [
    "df.shape"
   ]
  },
  {
   "cell_type": "code",
   "execution_count": 6,
   "metadata": {},
   "outputs": [],
   "source": [
    "X, y = df.drop(TARGET_COL, axis=1).to_numpy(), df[TARGET_COL].to_numpy()"
   ]
  },
  {
   "cell_type": "code",
   "execution_count": 7,
   "metadata": {},
   "outputs": [
    {
     "data": {
      "text/plain": [
       "array([[0.26169783, 0.51225549, 0.23734351, ..., 0.05061511, 0.79543984,\n",
       "        0.92466015],\n",
       "       [0.39486408, 0.49149728, 0.37069297, ..., 0.94302195, 0.70251673,\n",
       "        0.00388286],\n",
       "       [0.43071288, 0.75342995, 0.43926528, ..., 0.73105693, 0.72354347,\n",
       "        0.73271024],\n",
       "       ...,\n",
       "       [0.23696722, 0.54619014, 0.23403694, ..., 0.73371381, 0.9340629 ,\n",
       "        0.21788606],\n",
       "       [0.31524032, 0.45087713, 0.29702532, ..., 0.86020398, 0.9304722 ,\n",
       "        0.23826832],\n",
       "       [0.27252325, 0.55586886, 0.2526651 , ..., 0.76022065, 0.9412418 ,\n",
       "        0.17346251]])"
      ]
     },
     "execution_count": 7,
     "metadata": {},
     "output_type": "execute_result"
    }
   ],
   "source": [
    "X"
   ]
  },
  {
   "cell_type": "code",
   "execution_count": 8,
   "metadata": {},
   "outputs": [
    {
     "data": {
      "text/plain": [
       "array([[0.26169783, 0.51225549, 0.23734351, 0.51735502, 0.23844127,\n",
       "        0.48602632, 0.24248251, 0.49787834, 0.24808878, 0.43095765,\n",
       "        0.36717844, 0.53851849, 0.38760287, 0.38436916, 0.49961963,\n",
       "        0.63676196, 0.57135969, 0.40893739, 0.50727457, 0.61379766,\n",
       "        0.51254141, 0.53712767, 0.64262086, 0.48303765, 0.65184456,\n",
       "        0.41422325, 0.67885518, 0.22136547, 0.72278249, 0.67440146,\n",
       "        0.68381965, 0.05061511, 0.79543984, 0.92466015],\n",
       "       [0.39486408, 0.49149728, 0.37069297, 0.487102  , 0.37571383,\n",
       "        0.46112013, 0.38181058, 0.45099455, 0.40013996, 0.4024803 ,\n",
       "        0.46927312, 0.47687504, 0.48903829, 0.36995849, 0.28492588,\n",
       "        0.45973617, 0.29315618, 0.36429968, 0.12957139, 0.41115224,\n",
       "        0.12824076, 0.3665314 , 0.80108428, 0.53141189, 0.80769682,\n",
       "        0.39638758, 0.85473901, 0.71044707, 0.80534947, 0.17453019,\n",
       "        0.90873098, 0.94302195, 0.70251673, 0.00388286],\n",
       "       [0.41305649, 0.46097481, 0.40806714, 0.47696158, 0.40680441,\n",
       "        0.47714126, 0.44710526, 0.49716258, 0.44243354, 0.50123769,\n",
       "        0.54134011, 0.49300221, 0.52161914, 0.48854187, 0.3699255 ,\n",
       "        0.48338524, 0.36900103, 0.48056942, 0.24921636, 0.50499153,\n",
       "        0.25199866, 0.49666891, 0.75517458, 0.50933808, 0.75035965,\n",
       "        0.43584502, 0.81124228, 0.68593836, 0.77143002, 0.2897687 ,\n",
       "        0.81485933, 0.92382354, 0.78046381, 0.09257673]])"
      ]
     },
     "execution_count": 8,
     "metadata": {},
     "output_type": "execute_result"
    }
   ],
   "source": [
    "X.take([0, 1, 5], axis=0)"
   ]
  },
  {
   "cell_type": "code",
   "execution_count": 9,
   "metadata": {},
   "outputs": [
    {
     "name": "stdout",
     "output_type": "stream",
     "text": [
      "X.shape=(5994, 34),\n",
      "y.shape=(5994,)\n"
     ]
    }
   ],
   "source": [
    "print(f\"{X.shape=},\\n{y.shape=}\")"
   ]
  },
  {
   "cell_type": "code",
   "execution_count": 10,
   "metadata": {},
   "outputs": [],
   "source": [
    "# from sklearn.model_selection import train_test_split\n",
    "\n",
    "# X_train, X_test, y_train, y_test = train_test_split(X, y, stratify=y, test_size=0.3, random_state=SEED)"
   ]
  },
  {
   "cell_type": "code",
   "execution_count": 11,
   "metadata": {},
   "outputs": [],
   "source": [
    "# print(f\"{X_train.shape=},\\n{y_train.shape=}\\n\\n{X_test.shape=},\\n{y_test.shape=}\")"
   ]
  },
  {
   "cell_type": "code",
   "execution_count": 12,
   "metadata": {},
   "outputs": [
    {
     "name": "stderr",
     "output_type": "stream",
     "text": [
      "Folds:   0%|          | 0/5 [00:00<?, ?it/s]/home/jedrz/miniconda3/envs/yoga/lib/python3.9/site-packages/sklearn/neural_network/_multilayer_perceptron.py:686: ConvergenceWarning: Stochastic Optimizer: Maximum iterations (200) reached and the optimization hasn't converged yet.\n",
      "  warnings.warn(\n",
      "/home/jedrz/miniconda3/envs/yoga/lib/python3.9/site-packages/sklearn/discriminant_analysis.py:926: UserWarning: Variables are collinear\n",
      "  warnings.warn(\"Variables are collinear\")\n",
      "Folds:  20%|██        | 1/5 [00:26<01:44, 26.19s/it]/home/jedrz/miniconda3/envs/yoga/lib/python3.9/site-packages/sklearn/neural_network/_multilayer_perceptron.py:686: ConvergenceWarning: Stochastic Optimizer: Maximum iterations (200) reached and the optimization hasn't converged yet.\n",
      "  warnings.warn(\n",
      "/home/jedrz/miniconda3/envs/yoga/lib/python3.9/site-packages/sklearn/discriminant_analysis.py:926: UserWarning: Variables are collinear\n",
      "  warnings.warn(\"Variables are collinear\")\n",
      "Folds:  40%|████      | 2/5 [00:45<01:05, 21.85s/it]/home/jedrz/miniconda3/envs/yoga/lib/python3.9/site-packages/sklearn/neural_network/_multilayer_perceptron.py:686: ConvergenceWarning: Stochastic Optimizer: Maximum iterations (200) reached and the optimization hasn't converged yet.\n",
      "  warnings.warn(\n",
      "/home/jedrz/miniconda3/envs/yoga/lib/python3.9/site-packages/sklearn/discriminant_analysis.py:926: UserWarning: Variables are collinear\n",
      "  warnings.warn(\"Variables are collinear\")\n",
      "Folds:  60%|██████    | 3/5 [01:08<00:45, 22.54s/it]/home/jedrz/miniconda3/envs/yoga/lib/python3.9/site-packages/sklearn/neural_network/_multilayer_perceptron.py:686: ConvergenceWarning: Stochastic Optimizer: Maximum iterations (200) reached and the optimization hasn't converged yet.\n",
      "  warnings.warn(\n",
      "/home/jedrz/miniconda3/envs/yoga/lib/python3.9/site-packages/sklearn/discriminant_analysis.py:926: UserWarning: Variables are collinear\n",
      "  warnings.warn(\"Variables are collinear\")\n",
      "Folds:  80%|████████  | 4/5 [01:32<00:23, 23.25s/it]/home/jedrz/miniconda3/envs/yoga/lib/python3.9/site-packages/sklearn/neural_network/_multilayer_perceptron.py:686: ConvergenceWarning: Stochastic Optimizer: Maximum iterations (200) reached and the optimization hasn't converged yet.\n",
      "  warnings.warn(\n",
      "/home/jedrz/miniconda3/envs/yoga/lib/python3.9/site-packages/sklearn/discriminant_analysis.py:926: UserWarning: Variables are collinear\n",
      "  warnings.warn(\"Variables are collinear\")\n",
      "Folds: 100%|██████████| 5/5 [01:58<00:00, 23.68s/it]\n"
     ]
    }
   ],
   "source": [
    "\n",
    "from sklearn.metrics import classification_report, precision_score, recall_score, f1_score\n",
    "from sklearn.model_selection import StratifiedKFold\n",
    "from sklearn.neural_network import MLPClassifier\n",
    "from sklearn.neighbors import KNeighborsClassifier\n",
    "from sklearn.svm import SVC\n",
    "from sklearn.tree import DecisionTreeClassifier\n",
    "from sklearn.ensemble import RandomForestClassifier, AdaBoostClassifier\n",
    "from sklearn.naive_bayes import GaussianNB\n",
    "from sklearn.discriminant_analysis import QuadraticDiscriminantAnalysis\n",
    "from tqdm import tqdm\n",
    "\n",
    "\n",
    "classifiers = [\n",
    "    KNeighborsClassifier(),\n",
    "    SVC(),\n",
    "    DecisionTreeClassifier(),\n",
    "    RandomForestClassifier(),\n",
    "    MLPClassifier(),\n",
    "    AdaBoostClassifier(),\n",
    "    GaussianNB(),\n",
    "    QuadraticDiscriminantAnalysis(),\n",
    "]\n",
    "\n",
    "N_FOLDS = 5\n",
    "skf = StratifiedKFold(n_splits=N_FOLDS, shuffle=True, random_state=SEED)\n",
    "\n",
    "metrics_rows = []\n",
    "fold_indices_rows = []\n",
    "for fold, (train_indices, test_indices) in enumerate(tqdm(skf.split(X, y), desc=\"Folds: \", total=N_FOLDS)):\n",
    "    X_train, y_train = X.take(train_indices, axis=0), y.take(train_indices, axis=0)\n",
    "    X_test, y_test = X.take(test_indices, axis=0), y.take(test_indices, axis=0)\n",
    "    fold_indices_rows.append({\n",
    "        \"Fold\": fold,\n",
    "        \"TrainIndices\": train_indices,\n",
    "        \"TestIndices\": test_indices,\n",
    "    })\n",
    "    for clf in tqdm(classifiers, desc=\"Classifiers: \", leave=False):\n",
    "        clf_name = clf.__class__.__name__\n",
    "\n",
    "        clf.fit(X_train, y_train)\n",
    "        y_preds = clf.predict(X_test)\n",
    "\n",
    "        clf_report = classification_report(y_test, y_preds, output_dict=True, zero_division=0)\n",
    "        micro_f1 = f1_score(y_test, y_preds, average=\"micro\")\n",
    "        micro_precision = precision_score(y_test, y_preds, average=\"micro\")\n",
    "        micro_recall = recall_score(y_test, y_preds, average=\"micro\")\n",
    "\n",
    "        metrics_rows.append({\n",
    "            \"Model\": clf_name,\n",
    "            \"Pose\": \"_overall\",\n",
    "            \"CvFold\": fold,\n",
    "            \"F1\": micro_f1,\n",
    "            \"Precision\": micro_precision,\n",
    "            \"Recall\": micro_recall,\n",
    "            \"Support\": np.nan,\n",
    "        })\n",
    "        for key, value in clf_report.items():\n",
    "            if key not in unique_poses:\n",
    "                continue\n",
    "            metrics_rows.append({\n",
    "                \"Model\": clf_name,\n",
    "                \"Pose\": key,\n",
    "                \"CvFold\": fold,\n",
    "                \"F1\": value[\"f1-score\"],\n",
    "                \"Precision\": value[\"precision\"],\n",
    "                \"Recall\": value[\"recall\"],\n",
    "                \"Support\": value[\"support\"],\n",
    "            })"
   ]
  },
  {
   "cell_type": "code",
   "execution_count": 13,
   "metadata": {},
   "outputs": [
    {
     "data": {
      "text/plain": [
       "{'accuracy', 'macro avg', 'weighted avg'}"
      ]
     },
     "execution_count": 13,
     "metadata": {},
     "output_type": "execute_result"
    }
   ],
   "source": [
    "set(clf_report.keys()) - set(df[\"pose\"].unique())"
   ]
  },
  {
   "cell_type": "code",
   "execution_count": 14,
   "metadata": {},
   "outputs": [
    {
     "data": {
      "text/html": [
       "<div>\n",
       "<style scoped>\n",
       "    .dataframe tbody tr th:only-of-type {\n",
       "        vertical-align: middle;\n",
       "    }\n",
       "\n",
       "    .dataframe tbody tr th {\n",
       "        vertical-align: top;\n",
       "    }\n",
       "\n",
       "    .dataframe thead th {\n",
       "        text-align: right;\n",
       "    }\n",
       "</style>\n",
       "<table border=\"1\" class=\"dataframe\">\n",
       "  <thead>\n",
       "    <tr style=\"text-align: right;\">\n",
       "      <th></th>\n",
       "      <th>Model</th>\n",
       "      <th>Pose</th>\n",
       "      <th>CvFold</th>\n",
       "      <th>F1</th>\n",
       "      <th>Precision</th>\n",
       "      <th>Recall</th>\n",
       "      <th>Support</th>\n",
       "    </tr>\n",
       "  </thead>\n",
       "  <tbody>\n",
       "    <tr>\n",
       "      <th>0</th>\n",
       "      <td>KNeighborsClassifier</td>\n",
       "      <td>_overall</td>\n",
       "      <td>0</td>\n",
       "      <td>0.736447</td>\n",
       "      <td>0.736447</td>\n",
       "      <td>0.736447</td>\n",
       "      <td>NaN</td>\n",
       "    </tr>\n",
       "    <tr>\n",
       "      <th>1</th>\n",
       "      <td>KNeighborsClassifier</td>\n",
       "      <td>adho mukha svanasana</td>\n",
       "      <td>0</td>\n",
       "      <td>0.812500</td>\n",
       "      <td>0.722222</td>\n",
       "      <td>0.928571</td>\n",
       "      <td>14.0</td>\n",
       "    </tr>\n",
       "    <tr>\n",
       "      <th>2</th>\n",
       "      <td>KNeighborsClassifier</td>\n",
       "      <td>adho mukha vriksasana</td>\n",
       "      <td>0</td>\n",
       "      <td>0.733333</td>\n",
       "      <td>0.611111</td>\n",
       "      <td>0.916667</td>\n",
       "      <td>12.0</td>\n",
       "    </tr>\n",
       "    <tr>\n",
       "      <th>3</th>\n",
       "      <td>KNeighborsClassifier</td>\n",
       "      <td>agnistambhasana</td>\n",
       "      <td>0</td>\n",
       "      <td>0.363636</td>\n",
       "      <td>0.400000</td>\n",
       "      <td>0.333333</td>\n",
       "      <td>6.0</td>\n",
       "    </tr>\n",
       "    <tr>\n",
       "      <th>4</th>\n",
       "      <td>KNeighborsClassifier</td>\n",
       "      <td>ananda balasana</td>\n",
       "      <td>0</td>\n",
       "      <td>0.869565</td>\n",
       "      <td>0.909091</td>\n",
       "      <td>0.833333</td>\n",
       "      <td>12.0</td>\n",
       "    </tr>\n",
       "    <tr>\n",
       "      <th>...</th>\n",
       "      <td>...</td>\n",
       "      <td>...</td>\n",
       "      <td>...</td>\n",
       "      <td>...</td>\n",
       "      <td>...</td>\n",
       "      <td>...</td>\n",
       "      <td>...</td>\n",
       "    </tr>\n",
       "    <tr>\n",
       "      <th>4315</th>\n",
       "      <td>QuadraticDiscriminantAnalysis</td>\n",
       "      <td>virabhadrasana iii</td>\n",
       "      <td>4</td>\n",
       "      <td>0.631579</td>\n",
       "      <td>1.000000</td>\n",
       "      <td>0.461538</td>\n",
       "      <td>13.0</td>\n",
       "    </tr>\n",
       "    <tr>\n",
       "      <th>4316</th>\n",
       "      <td>QuadraticDiscriminantAnalysis</td>\n",
       "      <td>virasana</td>\n",
       "      <td>4</td>\n",
       "      <td>0.375000</td>\n",
       "      <td>0.500000</td>\n",
       "      <td>0.300000</td>\n",
       "      <td>10.0</td>\n",
       "    </tr>\n",
       "    <tr>\n",
       "      <th>4317</th>\n",
       "      <td>QuadraticDiscriminantAnalysis</td>\n",
       "      <td>vriksasana</td>\n",
       "      <td>4</td>\n",
       "      <td>0.700000</td>\n",
       "      <td>0.875000</td>\n",
       "      <td>0.583333</td>\n",
       "      <td>12.0</td>\n",
       "    </tr>\n",
       "    <tr>\n",
       "      <th>4318</th>\n",
       "      <td>QuadraticDiscriminantAnalysis</td>\n",
       "      <td>vrischikasana</td>\n",
       "      <td>4</td>\n",
       "      <td>0.555556</td>\n",
       "      <td>0.714286</td>\n",
       "      <td>0.454545</td>\n",
       "      <td>11.0</td>\n",
       "    </tr>\n",
       "    <tr>\n",
       "      <th>4319</th>\n",
       "      <td>QuadraticDiscriminantAnalysis</td>\n",
       "      <td>yoganidrasana</td>\n",
       "      <td>4</td>\n",
       "      <td>0.000000</td>\n",
       "      <td>0.000000</td>\n",
       "      <td>0.000000</td>\n",
       "      <td>9.0</td>\n",
       "    </tr>\n",
       "  </tbody>\n",
       "</table>\n",
       "<p>4320 rows × 7 columns</p>\n",
       "</div>"
      ],
      "text/plain": [
       "                              Model                   Pose  CvFold        F1  \\\n",
       "0              KNeighborsClassifier               _overall       0  0.736447   \n",
       "1              KNeighborsClassifier   adho mukha svanasana       0  0.812500   \n",
       "2              KNeighborsClassifier  adho mukha vriksasana       0  0.733333   \n",
       "3              KNeighborsClassifier        agnistambhasana       0  0.363636   \n",
       "4              KNeighborsClassifier        ananda balasana       0  0.869565   \n",
       "...                             ...                    ...     ...       ...   \n",
       "4315  QuadraticDiscriminantAnalysis     virabhadrasana iii       4  0.631579   \n",
       "4316  QuadraticDiscriminantAnalysis               virasana       4  0.375000   \n",
       "4317  QuadraticDiscriminantAnalysis             vriksasana       4  0.700000   \n",
       "4318  QuadraticDiscriminantAnalysis          vrischikasana       4  0.555556   \n",
       "4319  QuadraticDiscriminantAnalysis          yoganidrasana       4  0.000000   \n",
       "\n",
       "      Precision    Recall  Support  \n",
       "0      0.736447  0.736447      NaN  \n",
       "1      0.722222  0.928571     14.0  \n",
       "2      0.611111  0.916667     12.0  \n",
       "3      0.400000  0.333333      6.0  \n",
       "4      0.909091  0.833333     12.0  \n",
       "...         ...       ...      ...  \n",
       "4315   1.000000  0.461538     13.0  \n",
       "4316   0.500000  0.300000     10.0  \n",
       "4317   0.875000  0.583333     12.0  \n",
       "4318   0.714286  0.454545     11.0  \n",
       "4319   0.000000  0.000000      9.0  \n",
       "\n",
       "[4320 rows x 7 columns]"
      ]
     },
     "execution_count": 14,
     "metadata": {},
     "output_type": "execute_result"
    }
   ],
   "source": [
    "metrics_df = pd.DataFrame.from_records(metrics_rows)\n",
    "metrics_df"
   ]
  },
  {
   "cell_type": "code",
   "execution_count": 53,
   "metadata": {},
   "outputs": [
    {
     "data": {
      "text/html": [
       "<div>\n",
       "<style scoped>\n",
       "    .dataframe tbody tr th:only-of-type {\n",
       "        vertical-align: middle;\n",
       "    }\n",
       "\n",
       "    .dataframe tbody tr th {\n",
       "        vertical-align: top;\n",
       "    }\n",
       "\n",
       "    .dataframe thead th {\n",
       "        text-align: right;\n",
       "    }\n",
       "</style>\n",
       "<table border=\"1\" class=\"dataframe\">\n",
       "  <thead>\n",
       "    <tr style=\"text-align: right;\">\n",
       "      <th></th>\n",
       "      <th>Model</th>\n",
       "      <th>Pose</th>\n",
       "      <th>CvFold</th>\n",
       "      <th>F1</th>\n",
       "      <th>Precision</th>\n",
       "      <th>Recall</th>\n",
       "      <th>Support</th>\n",
       "    </tr>\n",
       "  </thead>\n",
       "  <tbody>\n",
       "    <tr>\n",
       "      <th>540</th>\n",
       "      <td>AdaBoostClassifier</td>\n",
       "      <td>_overall</td>\n",
       "      <td>0</td>\n",
       "      <td>0.040033</td>\n",
       "      <td>0.040033</td>\n",
       "      <td>0.040033</td>\n",
       "      <td>NaN</td>\n",
       "    </tr>\n",
       "    <tr>\n",
       "      <th>216</th>\n",
       "      <td>DecisionTreeClassifier</td>\n",
       "      <td>_overall</td>\n",
       "      <td>0</td>\n",
       "      <td>0.521268</td>\n",
       "      <td>0.521268</td>\n",
       "      <td>0.521268</td>\n",
       "      <td>NaN</td>\n",
       "    </tr>\n",
       "    <tr>\n",
       "      <th>756</th>\n",
       "      <td>QuadraticDiscriminantAnalysis</td>\n",
       "      <td>_overall</td>\n",
       "      <td>0</td>\n",
       "      <td>0.551293</td>\n",
       "      <td>0.551293</td>\n",
       "      <td>0.551293</td>\n",
       "      <td>NaN</td>\n",
       "    </tr>\n",
       "    <tr>\n",
       "      <th>648</th>\n",
       "      <td>GaussianNB</td>\n",
       "      <td>_overall</td>\n",
       "      <td>0</td>\n",
       "      <td>0.593828</td>\n",
       "      <td>0.593828</td>\n",
       "      <td>0.593828</td>\n",
       "      <td>NaN</td>\n",
       "    </tr>\n",
       "    <tr>\n",
       "      <th>432</th>\n",
       "      <td>MLPClassifier</td>\n",
       "      <td>_overall</td>\n",
       "      <td>0</td>\n",
       "      <td>0.705588</td>\n",
       "      <td>0.705588</td>\n",
       "      <td>0.705588</td>\n",
       "      <td>NaN</td>\n",
       "    </tr>\n",
       "    <tr>\n",
       "      <th>108</th>\n",
       "      <td>SVC</td>\n",
       "      <td>_overall</td>\n",
       "      <td>0</td>\n",
       "      <td>0.723103</td>\n",
       "      <td>0.723103</td>\n",
       "      <td>0.723103</td>\n",
       "      <td>NaN</td>\n",
       "    </tr>\n",
       "    <tr>\n",
       "      <th>0</th>\n",
       "      <td>KNeighborsClassifier</td>\n",
       "      <td>_overall</td>\n",
       "      <td>0</td>\n",
       "      <td>0.736447</td>\n",
       "      <td>0.736447</td>\n",
       "      <td>0.736447</td>\n",
       "      <td>NaN</td>\n",
       "    </tr>\n",
       "    <tr>\n",
       "      <th>324</th>\n",
       "      <td>RandomForestClassifier</td>\n",
       "      <td>_overall</td>\n",
       "      <td>0</td>\n",
       "      <td>0.738115</td>\n",
       "      <td>0.738115</td>\n",
       "      <td>0.738115</td>\n",
       "      <td>NaN</td>\n",
       "    </tr>\n",
       "  </tbody>\n",
       "</table>\n",
       "</div>"
      ],
      "text/plain": [
       "                             Model      Pose  CvFold        F1  Precision  \\\n",
       "540             AdaBoostClassifier  _overall       0  0.040033   0.040033   \n",
       "216         DecisionTreeClassifier  _overall       0  0.521268   0.521268   \n",
       "756  QuadraticDiscriminantAnalysis  _overall       0  0.551293   0.551293   \n",
       "648                     GaussianNB  _overall       0  0.593828   0.593828   \n",
       "432                  MLPClassifier  _overall       0  0.705588   0.705588   \n",
       "108                            SVC  _overall       0  0.723103   0.723103   \n",
       "0             KNeighborsClassifier  _overall       0  0.736447   0.736447   \n",
       "324         RandomForestClassifier  _overall       0  0.738115   0.738115   \n",
       "\n",
       "       Recall  Support  \n",
       "540  0.040033      NaN  \n",
       "216  0.521268      NaN  \n",
       "756  0.551293      NaN  \n",
       "648  0.593828      NaN  \n",
       "432  0.705588      NaN  \n",
       "108  0.723103      NaN  \n",
       "0    0.736447      NaN  \n",
       "324  0.738115      NaN  "
      ]
     },
     "execution_count": 53,
     "metadata": {},
     "output_type": "execute_result"
    }
   ],
   "source": [
    "metrics_df.sort_values(by=[\"Pose\", \"F1\"], inplace=True)\n",
    "metrics_df[metrics_df.CvFold == 0].head(len(classifiers))"
   ]
  },
  {
   "cell_type": "code",
   "execution_count": 16,
   "metadata": {},
   "outputs": [
    {
     "data": {
      "text/html": [
       "<div>\n",
       "<style scoped>\n",
       "    .dataframe tbody tr th:only-of-type {\n",
       "        vertical-align: middle;\n",
       "    }\n",
       "\n",
       "    .dataframe tbody tr th {\n",
       "        vertical-align: top;\n",
       "    }\n",
       "\n",
       "    .dataframe thead th {\n",
       "        text-align: right;\n",
       "    }\n",
       "</style>\n",
       "<table border=\"1\" class=\"dataframe\">\n",
       "  <thead>\n",
       "    <tr style=\"text-align: right;\">\n",
       "      <th></th>\n",
       "      <th>Fold</th>\n",
       "      <th>TrainIndices</th>\n",
       "      <th>TestIndices</th>\n",
       "    </tr>\n",
       "  </thead>\n",
       "  <tbody>\n",
       "    <tr>\n",
       "      <th>0</th>\n",
       "      <td>0</td>\n",
       "      <td>[0, 1, 2, 3, 4, 5, 6, 7, 8, 9, 10, 11, 14, 15,...</td>\n",
       "      <td>[12, 13, 16, 18, 19, 21, 29, 43, 44, 50, 53, 6...</td>\n",
       "    </tr>\n",
       "    <tr>\n",
       "      <th>1</th>\n",
       "      <td>1</td>\n",
       "      <td>[0, 2, 3, 4, 5, 6, 9, 11, 12, 13, 14, 15, 16, ...</td>\n",
       "      <td>[1, 7, 8, 10, 17, 25, 32, 41, 45, 49, 56, 57, ...</td>\n",
       "    </tr>\n",
       "    <tr>\n",
       "      <th>2</th>\n",
       "      <td>2</td>\n",
       "      <td>[0, 1, 2, 3, 5, 7, 8, 10, 11, 12, 13, 15, 16, ...</td>\n",
       "      <td>[4, 6, 9, 14, 27, 30, 33, 35, 40, 46, 48, 52, ...</td>\n",
       "    </tr>\n",
       "    <tr>\n",
       "      <th>3</th>\n",
       "      <td>3</td>\n",
       "      <td>[1, 4, 5, 6, 7, 8, 9, 10, 11, 12, 13, 14, 16, ...</td>\n",
       "      <td>[0, 2, 3, 15, 23, 26, 28, 36, 39, 42, 51, 58, ...</td>\n",
       "    </tr>\n",
       "    <tr>\n",
       "      <th>4</th>\n",
       "      <td>4</td>\n",
       "      <td>[0, 1, 2, 3, 4, 6, 7, 8, 9, 10, 12, 13, 14, 15...</td>\n",
       "      <td>[5, 11, 20, 22, 24, 31, 34, 37, 38, 47, 55, 64...</td>\n",
       "    </tr>\n",
       "  </tbody>\n",
       "</table>\n",
       "</div>"
      ],
      "text/plain": [
       "   Fold                                       TrainIndices  \\\n",
       "0     0  [0, 1, 2, 3, 4, 5, 6, 7, 8, 9, 10, 11, 14, 15,...   \n",
       "1     1  [0, 2, 3, 4, 5, 6, 9, 11, 12, 13, 14, 15, 16, ...   \n",
       "2     2  [0, 1, 2, 3, 5, 7, 8, 10, 11, 12, 13, 15, 16, ...   \n",
       "3     3  [1, 4, 5, 6, 7, 8, 9, 10, 11, 12, 13, 14, 16, ...   \n",
       "4     4  [0, 1, 2, 3, 4, 6, 7, 8, 9, 10, 12, 13, 14, 15...   \n",
       "\n",
       "                                         TestIndices  \n",
       "0  [12, 13, 16, 18, 19, 21, 29, 43, 44, 50, 53, 6...  \n",
       "1  [1, 7, 8, 10, 17, 25, 32, 41, 45, 49, 56, 57, ...  \n",
       "2  [4, 6, 9, 14, 27, 30, 33, 35, 40, 46, 48, 52, ...  \n",
       "3  [0, 2, 3, 15, 23, 26, 28, 36, 39, 42, 51, 58, ...  \n",
       "4  [5, 11, 20, 22, 24, 31, 34, 37, 38, 47, 55, 64...  "
      ]
     },
     "execution_count": 16,
     "metadata": {},
     "output_type": "execute_result"
    }
   ],
   "source": [
    "fold_indices_df = pd.DataFrame.from_records(fold_indices_rows)\n",
    "fold_indices_df"
   ]
  },
  {
   "cell_type": "code",
   "execution_count": 17,
   "metadata": {},
   "outputs": [],
   "source": [
    "metrics_df.to_csv(\"results/baseline_clfs_cv_metrics.csv\", index=False)"
   ]
  },
  {
   "cell_type": "code",
   "execution_count": 18,
   "metadata": {},
   "outputs": [],
   "source": [
    "fold_indices_df.to_csv(\"results/baseline_clfs_cv_fold_indices.csv\", index=False)"
   ]
  },
  {
   "attachments": {},
   "cell_type": "markdown",
   "metadata": {},
   "source": [
    "# Evaluate the significance of a cross-validated score with permutations."
   ]
  },
  {
   "attachments": {},
   "cell_type": "markdown",
   "metadata": {},
   "source": [
    "[Scikit-learn permutation test score](https://scikit-learn.org/stable/modules/generated/sklearn.model_selection.permutation_test_score.html#sklearn.model_selection.permutation_test_score)"
   ]
  },
  {
   "cell_type": "code",
   "execution_count": 48,
   "metadata": {},
   "outputs": [
    {
     "name": "stderr",
     "output_type": "stream",
     "text": [
      "Classifiers: 100%|██████████| 8/8 [15:09<00:00, 113.75s/it]\n"
     ]
    }
   ],
   "source": [
    "from sklearn.model_selection import permutation_test_score\n",
    "\n",
    "import warnings\n",
    "warnings.filterwarnings(\"ignore\")\n",
    "\n",
    "N_PERMUTATIONS = 10\n",
    "PERM_SCORING = \"f1_micro\"\n",
    "\n",
    "classifiers = [\n",
    "    KNeighborsClassifier(),\n",
    "    SVC(),\n",
    "    DecisionTreeClassifier(),\n",
    "    RandomForestClassifier(),\n",
    "    MLPClassifier(),\n",
    "    AdaBoostClassifier(),\n",
    "    GaussianNB(),\n",
    "    QuadraticDiscriminantAnalysis(),\n",
    "]\n",
    "\n",
    "permutation_metrics_rows = []\n",
    "for clf in tqdm(classifiers, desc=\"Classifiers: \"):\n",
    "    clf_name = clf.__class__.__name__\n",
    "\n",
    "    score, perm_scores, pvalue = permutation_test_score(\n",
    "        clf, X, y,\n",
    "        scoring=PERM_SCORING,\n",
    "        cv=StratifiedKFold(n_splits=N_FOLDS, shuffle=True, random_state=SEED),\n",
    "        n_permutations=N_PERMUTATIONS,\n",
    "        random_state=SEED,\n",
    "    )\n",
    "    \n",
    "    permutation_metrics_rows.append({\n",
    "        \"Model\": clf_name,\n",
    "        \"CvFolds\": N_FOLDS,\n",
    "        \"Scoring\": PERM_SCORING,\n",
    "        \"Score\": score,  # The true score without permuting targets.\n",
    "        \"PermutationScores\": perm_scores,  # The scores obtained for each permutations.\n",
    "        \"PValue\": pvalue,  # The p-value, which approximates the probability that the score would be obtained by chance.\n",
    "    })"
   ]
  },
  {
   "cell_type": "code",
   "execution_count": 49,
   "metadata": {},
   "outputs": [
    {
     "data": {
      "text/html": [
       "<div>\n",
       "<style scoped>\n",
       "    .dataframe tbody tr th:only-of-type {\n",
       "        vertical-align: middle;\n",
       "    }\n",
       "\n",
       "    .dataframe tbody tr th {\n",
       "        vertical-align: top;\n",
       "    }\n",
       "\n",
       "    .dataframe thead th {\n",
       "        text-align: right;\n",
       "    }\n",
       "</style>\n",
       "<table border=\"1\" class=\"dataframe\">\n",
       "  <thead>\n",
       "    <tr style=\"text-align: right;\">\n",
       "      <th></th>\n",
       "      <th>Model</th>\n",
       "      <th>CvFolds</th>\n",
       "      <th>Scoring</th>\n",
       "      <th>Score</th>\n",
       "      <th>PermutationScores</th>\n",
       "      <th>PValue</th>\n",
       "    </tr>\n",
       "  </thead>\n",
       "  <tbody>\n",
       "    <tr>\n",
       "      <th>0</th>\n",
       "      <td>KNeighborsClassifier</td>\n",
       "      <td>5</td>\n",
       "      <td>f1_micro</td>\n",
       "      <td>0.711210</td>\n",
       "      <td>[0.007340702672371661, 0.01134501344331183, 0....</td>\n",
       "      <td>0.090909</td>\n",
       "    </tr>\n",
       "    <tr>\n",
       "      <th>1</th>\n",
       "      <td>SVC</td>\n",
       "      <td>5</td>\n",
       "      <td>f1_micro</td>\n",
       "      <td>0.697361</td>\n",
       "      <td>[0.010843900245195982, 0.011344317259374464, 0...</td>\n",
       "      <td>0.090909</td>\n",
       "    </tr>\n",
       "    <tr>\n",
       "      <th>2</th>\n",
       "      <td>DecisionTreeClassifier</td>\n",
       "      <td>5</td>\n",
       "      <td>f1_micro</td>\n",
       "      <td>0.517350</td>\n",
       "      <td>[0.008675287280301754, 0.0103434832310175, 0.0...</td>\n",
       "      <td>0.090909</td>\n",
       "    </tr>\n",
       "    <tr>\n",
       "      <th>3</th>\n",
       "      <td>RandomForestClassifier</td>\n",
       "      <td>5</td>\n",
       "      <td>f1_micro</td>\n",
       "      <td>0.715884</td>\n",
       "      <td>[0.010676955337015683, 0.010176816796412146, 0...</td>\n",
       "      <td>0.090909</td>\n",
       "    </tr>\n",
       "    <tr>\n",
       "      <th>4</th>\n",
       "      <td>MLPClassifier</td>\n",
       "      <td>5</td>\n",
       "      <td>f1_micro</td>\n",
       "      <td>0.703036</td>\n",
       "      <td>[0.010343761704592447, 0.010176399086049726, 0...</td>\n",
       "      <td>0.090909</td>\n",
       "    </tr>\n",
       "    <tr>\n",
       "      <th>5</th>\n",
       "      <td>AdaBoostClassifier</td>\n",
       "      <td>5</td>\n",
       "      <td>f1_micro</td>\n",
       "      <td>0.046713</td>\n",
       "      <td>[0.012178902563488494, 0.013347377683963125, 0...</td>\n",
       "      <td>0.090909</td>\n",
       "    </tr>\n",
       "    <tr>\n",
       "      <th>6</th>\n",
       "      <td>GaussianNB</td>\n",
       "      <td>5</td>\n",
       "      <td>f1_micro</td>\n",
       "      <td>0.584252</td>\n",
       "      <td>[0.0103434832310175, 0.007341120382734082, 0.0...</td>\n",
       "      <td>0.090909</td>\n",
       "    </tr>\n",
       "    <tr>\n",
       "      <th>7</th>\n",
       "      <td>QuadraticDiscriminantAnalysis</td>\n",
       "      <td>5</td>\n",
       "      <td>f1_micro</td>\n",
       "      <td>0.536702</td>\n",
       "      <td>[0.010009871888231846, 0.011011541337313649, 0...</td>\n",
       "      <td>0.090909</td>\n",
       "    </tr>\n",
       "  </tbody>\n",
       "</table>\n",
       "</div>"
      ],
      "text/plain": [
       "                           Model  CvFolds   Scoring     Score  \\\n",
       "0           KNeighborsClassifier        5  f1_micro  0.711210   \n",
       "1                            SVC        5  f1_micro  0.697361   \n",
       "2         DecisionTreeClassifier        5  f1_micro  0.517350   \n",
       "3         RandomForestClassifier        5  f1_micro  0.715884   \n",
       "4                  MLPClassifier        5  f1_micro  0.703036   \n",
       "5             AdaBoostClassifier        5  f1_micro  0.046713   \n",
       "6                     GaussianNB        5  f1_micro  0.584252   \n",
       "7  QuadraticDiscriminantAnalysis        5  f1_micro  0.536702   \n",
       "\n",
       "                                   PermutationScores    PValue  \n",
       "0  [0.007340702672371661, 0.01134501344331183, 0....  0.090909  \n",
       "1  [0.010843900245195982, 0.011344317259374464, 0...  0.090909  \n",
       "2  [0.008675287280301754, 0.0103434832310175, 0.0...  0.090909  \n",
       "3  [0.010676955337015683, 0.010176816796412146, 0...  0.090909  \n",
       "4  [0.010343761704592447, 0.010176399086049726, 0...  0.090909  \n",
       "5  [0.012178902563488494, 0.013347377683963125, 0...  0.090909  \n",
       "6  [0.0103434832310175, 0.007341120382734082, 0.0...  0.090909  \n",
       "7  [0.010009871888231846, 0.011011541337313649, 0...  0.090909  "
      ]
     },
     "execution_count": 49,
     "metadata": {},
     "output_type": "execute_result"
    }
   ],
   "source": [
    "permutation_metrics_df = pd.DataFrame.from_records(permutation_metrics_rows)\n",
    "permutation_metrics_df"
   ]
  },
  {
   "cell_type": "code",
   "execution_count": 50,
   "metadata": {},
   "outputs": [],
   "source": [
    "permutation_metrics_df.to_csv(\"results/baseline_clfs_cv_permutation_metrics.csv\", index=False)"
   ]
  },
  {
   "cell_type": "code",
   "execution_count": 51,
   "metadata": {},
   "outputs": [
    {
     "data": {
      "image/png": "[encoded data removed]",
      "text/plain": [
       "<Figure size 640x480 with 1 Axes>"
      ]
     },
     "metadata": {},
     "output_type": "display_data"
    },
    {
     "data": {
      "image/png": "[encoded data removed]",
      "text/plain": [
       "<Figure size 640x480 with 1 Axes>"
      ]
     },
     "metadata": {},
     "output_type": "display_data"
    },
    {
     "data": {
      "image/png": "[encoded data removed]",
      "text/plain": [
       "<Figure size 640x480 with 1 Axes>"
      ]
     },
     "metadata": {},
     "output_type": "display_data"
    },
    {
     "data": {
      "image/png": "[encoded data removed]",
      "text/plain": [
       "<Figure size 640x480 with 1 Axes>"
      ]
     },
     "metadata": {},
     "output_type": "display_data"
    },
    {
     "data": {
      "image/png": "[encoded data removed]",
      "text/plain": [
       "<Figure size 640x480 with 1 Axes>"
      ]
     },
     "metadata": {},
     "output_type": "display_data"
    },
    {
     "data": {
      "image/png": "[encoded data removed]",
      "text/plain": [
       "<Figure size 640x480 with 1 Axes>"
      ]
     },
     "metadata": {},
     "output_type": "display_data"
    },
    {
     "data": {
      "image/png": "[encoded data removed]",
      "text/plain": [
       "<Figure size 640x480 with 1 Axes>"
      ]
     },
     "metadata": {},
     "output_type": "display_data"
    },
    {
     "data": {
      "image/png": "[encoded data removed]",
      "text/plain": [
       "<Figure size 640x480 with 1 Axes>"
      ]
     },
     "metadata": {},
     "output_type": "display_data"
    }
   ],
   "source": [
    "import matplotlib.pyplot as plt\n",
    "\n",
    "for i, row in permutation_metrics_df.iterrows():\n",
    "    plt.hist(row[\"PermutationScores\"])\n",
    "    plt.axvline(row[\"Score\"], color=\"r\", linestyle=\"--\")\n",
    "    plt.title(f\"{row['Model']}\\n{row['Scoring']}={row['Score']:.4f} p-value={row['PValue']:.4f}\")\n",
    "    plt.xlabel(row[\"Scoring\"].capitalize())\n",
    "    plt.ylabel(\"Probability\")\n",
    "    plt.show()"
   ]
  },
  {
   "cell_type": "code",
   "execution_count": null,
   "metadata": {},
   "outputs": [],
   "source": []
  }
 ],
 "metadata": {
  "kernelspec": {
   "display_name": "yoga",
   "language": "python",
   "name": "python3"
  },
  "language_info": {
   "codemirror_mode": {
    "name": "ipython",
    "version": 3
   },
   "file_extension": ".py",
   "mimetype": "text/x-python",
   "name": "python",
   "nbconvert_exporter": "python",
   "pygments_lexer": "ipython3",
   "version": "3.9.16"
  },
  "orig_nbformat": 4
 },
 "nbformat": 4,
 "nbformat_minor": 2
}
