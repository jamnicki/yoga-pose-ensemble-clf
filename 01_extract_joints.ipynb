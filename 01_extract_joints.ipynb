{
  "cells": [
    {
      "cell_type": "markdown",
      "metadata": {
        "id": "9u_VGR6_BmbZ"
      },
      "source": [
        "## Visualization libraries & Imports"
      ]
    },
    {
      "cell_type": "code",
      "execution_count": 1,
      "metadata": {
        "id": "9BLeJv-pCCld"
      },
      "outputs": [
        {
          "name": "stderr",
          "output_type": "stream",
          "text": [
            "2023-03-28 18:50:38.031283: I tensorflow/core/util/port.cc:110] oneDNN custom operations are on. You may see slightly different numerical results due to floating-point round-off errors from different computation orders. To turn them off, set the environment variable `TF_ENABLE_ONEDNN_OPTS=0`.\n",
            "2023-03-28 18:50:38.032878: I tensorflow/tsl/cuda/cudart_stub.cc:28] Could not find cuda drivers on your machine, GPU will not be used.\n",
            "2023-03-28 18:50:38.072945: I tensorflow/tsl/cuda/cudart_stub.cc:28] Could not find cuda drivers on your machine, GPU will not be used.\n",
            "2023-03-28 18:50:38.075113: I tensorflow/core/platform/cpu_feature_guard.cc:182] This TensorFlow binary is optimized to use available CPU instructions in performance-critical operations.\n",
            "To enable the following instructions: AVX2 AVX_VNNI FMA, in other operations, rebuild TensorFlow with the appropriate compiler flags.\n",
            "2023-03-28 18:50:38.726229: W tensorflow/compiler/tf2tensorrt/utils/py_utils.cc:38] TF-TRT Warning: Could not find TensorRT\n",
            "Matplotlib created a temporary config/cache directory at /tmp/matplotlib-h2g_4r6g because the default path (/home/jedrz/.cache/matplotlib) is not a writable directory; it is highly recommended to set the MPLCONFIGDIR environment variable to a writable directory, in particular to speed up the import of Matplotlib and to better support multiprocessing.\n"
          ]
        }
      ],
      "source": [
        "import tensorflow as tf\n",
        "import tensorflow_hub as hub\n",
        "import numpy as np\n",
        "import cv2\n",
        "\n",
        "# Import matplotlib libraries\n",
        "from matplotlib import pyplot as plt\n",
        "from matplotlib.collections import LineCollection\n",
        "import matplotlib.patches as patches\n",
        "\n",
        "# Some modules to display an animation using imageio.\n",
        "import imageio\n",
        "from IPython.display import HTML, display\n",
        "\n",
        "import pandas as pd\n",
        "from pathlib import Path\n",
        "from pprint import pprint\n",
        "from tqdm.notebook import tqdm\n",
        "\n",
        "tqdm.pandas()"
      ]
    },
    {
      "cell_type": "code",
      "execution_count": 2,
      "metadata": {},
      "outputs": [],
      "source": [
        "DATA_DIR = Path(\"data\")\n",
        "YOGA_DATASET_DIR = DATA_DIR / \"yoga_dataset\"\n",
        "YOGA_POSES_DIR = YOGA_DATASET_DIR / \"content\"\n",
        "\n",
        "INPUT_SIZE = 256"
      ]
    },
    {
      "cell_type": "code",
      "execution_count": 3,
      "metadata": {},
      "outputs": [],
      "source": [
        "# Dictionary that maps from joint names to keypoint indices.\n",
        "KEYPOINT_DICT = {\n",
        "    'nose': 0,\n",
        "    'left_eye': 1,\n",
        "    'right_eye': 2,\n",
        "    'left_ear': 3,\n",
        "    'right_ear': 4,\n",
        "    'left_shoulder': 5,\n",
        "    'right_shoulder': 6,\n",
        "    'left_elbow': 7,\n",
        "    'right_elbow': 8,\n",
        "    'left_wrist': 9,\n",
        "    'right_wrist': 10,\n",
        "    'left_hip': 11,\n",
        "    'right_hip': 12,\n",
        "    'left_knee': 13,\n",
        "    'right_knee': 14,\n",
        "    'left_ankle': 15,\n",
        "    'right_ankle': 16\n",
        "}"
      ]
    },
    {
      "cell_type": "code",
      "execution_count": 4,
      "metadata": {
        "id": "bEJBMeRb3YUy"
      },
      "outputs": [],
      "source": [
        "#@title Helper functions for visualization\n",
        "\n",
        "# Maps bones to a matplotlib color name.\n",
        "KEYPOINT_EDGE_INDS_TO_COLOR = {\n",
        "    (0, 1): 'm',\n",
        "    (0, 2): 'c',\n",
        "    (1, 3): 'm',\n",
        "    (2, 4): 'c',\n",
        "    (0, 5): 'm',\n",
        "    (0, 6): 'c',\n",
        "    (5, 7): 'm',\n",
        "    (7, 9): 'm',\n",
        "    (6, 8): 'c',\n",
        "    (8, 10): 'c',\n",
        "    (5, 6): 'y',\n",
        "    (5, 11): 'm',\n",
        "    (6, 12): 'c',\n",
        "    (11, 12): 'y',\n",
        "    (11, 13): 'm',\n",
        "    (13, 15): 'm',\n",
        "    (12, 14): 'c',\n",
        "    (14, 16): 'c'\n",
        "}\n",
        "\n",
        "def _keypoints_and_edges_for_display(keypoints_with_scores,\n",
        "                                     height,\n",
        "                                     width,\n",
        "                                     keypoint_threshold=0.11):\n",
        "  \"\"\"Returns high confidence keypoints and edges for visualization.\n",
        "\n",
        "  Args:\n",
        "    keypoints_with_scores: A numpy array with shape [1, 1, 17, 3] representing\n",
        "      the keypoint coordinates and scores returned from the MoveNet model.\n",
        "    height: height of the image in pixels.\n",
        "    width: width of the image in pixels.\n",
        "    keypoint_threshold: minimum confidence score for a keypoint to be\n",
        "      visualized.\n",
        "\n",
        "  Returns:\n",
        "    A (keypoints_xy, edges_xy, edge_colors) containing:\n",
        "      * the coordinates of all keypoints of all detected entities;\n",
        "      * the coordinates of all skeleton edges of all detected entities;\n",
        "      * the colors in which the edges should be plotted.\n",
        "  \"\"\"\n",
        "  keypoints_all = []\n",
        "  keypoint_edges_all = []\n",
        "  edge_colors = []\n",
        "  num_instances, _, _, _ = keypoints_with_scores.shape\n",
        "  for idx in range(num_instances):\n",
        "    kpts_x = keypoints_with_scores[0, idx, :, 1]\n",
        "    kpts_y = keypoints_with_scores[0, idx, :, 0]\n",
        "    kpts_scores = keypoints_with_scores[0, idx, :, 2]\n",
        "    kpts_absolute_xy = np.stack(\n",
        "        [width * np.array(kpts_x), height * np.array(kpts_y)], axis=-1)\n",
        "    kpts_above_thresh_absolute = kpts_absolute_xy[\n",
        "        kpts_scores > keypoint_threshold, :]\n",
        "    keypoints_all.append(kpts_above_thresh_absolute)\n",
        "\n",
        "    for edge_pair, color in KEYPOINT_EDGE_INDS_TO_COLOR.items():\n",
        "      if (kpts_scores[edge_pair[0]] > keypoint_threshold and\n",
        "          kpts_scores[edge_pair[1]] > keypoint_threshold):\n",
        "        x_start = kpts_absolute_xy[edge_pair[0], 0]\n",
        "        y_start = kpts_absolute_xy[edge_pair[0], 1]\n",
        "        x_end = kpts_absolute_xy[edge_pair[1], 0]\n",
        "        y_end = kpts_absolute_xy[edge_pair[1], 1]\n",
        "        line_seg = np.array([[x_start, y_start], [x_end, y_end]])\n",
        "        keypoint_edges_all.append(line_seg)\n",
        "        edge_colors.append(color)\n",
        "  if keypoints_all:\n",
        "    keypoints_xy = np.concatenate(keypoints_all, axis=0)\n",
        "  else:\n",
        "    keypoints_xy = np.zeros((0, 17, 2))\n",
        "\n",
        "  if keypoint_edges_all:\n",
        "    edges_xy = np.stack(keypoint_edges_all, axis=0)\n",
        "  else:\n",
        "    edges_xy = np.zeros((0, 2, 2))\n",
        "  return keypoints_xy, edges_xy, edge_colors\n",
        "\n",
        "\n",
        "def draw_prediction_on_image(\n",
        "    image, keypoints_with_scores, crop_region=None, close_figure=False,\n",
        "    output_image_height=None):\n",
        "  \"\"\"Draws the keypoint predictions on image.\n",
        "\n",
        "  Args:\n",
        "    image: A numpy array with shape [height, width, channel] representing the\n",
        "      pixel values of the input image.\n",
        "    keypoints_with_scores: A numpy array with shape [1, 1, 17, 3] representing\n",
        "      the keypoint coordinates and scores returned from the MoveNet model.\n",
        "    crop_region: A dictionary that defines the coordinates of the bounding box\n",
        "      of the crop region in normalized coordinates (see the init_crop_region\n",
        "      function below for more detail). If provided, this function will also\n",
        "      draw the bounding box on the image.\n",
        "    output_image_height: An integer indicating the height of the output image.\n",
        "      Note that the image aspect ratio will be the same as the input image.\n",
        "\n",
        "  Returns:\n",
        "    A numpy array with shape [out_height, out_width, channel] representing the\n",
        "    image overlaid with keypoint predictions.\n",
        "  \"\"\"\n",
        "  height, width, channel = image.shape\n",
        "  aspect_ratio = float(width) / height\n",
        "  fig, ax = plt.subplots(figsize=(12 * aspect_ratio, 12))\n",
        "  # To remove the huge white borders\n",
        "  fig.tight_layout(pad=0)\n",
        "  ax.margins(0)\n",
        "  ax.set_yticklabels([])\n",
        "  ax.set_xticklabels([])\n",
        "  plt.axis('off')\n",
        "\n",
        "  im = ax.imshow(image)\n",
        "  line_segments = LineCollection([], linewidths=(4), linestyle='solid')\n",
        "  ax.add_collection(line_segments)\n",
        "  # Turn off tick labels\n",
        "  scat = ax.scatter([], [], s=60, color='#FF1493', zorder=3)\n",
        "\n",
        "  (keypoint_locs, keypoint_edges,\n",
        "   edge_colors) = _keypoints_and_edges_for_display(\n",
        "       keypoints_with_scores, height, width)\n",
        "\n",
        "  line_segments.set_segments(keypoint_edges)\n",
        "  line_segments.set_color(edge_colors)\n",
        "  if keypoint_edges.shape[0]:\n",
        "    line_segments.set_segments(keypoint_edges)\n",
        "    line_segments.set_color(edge_colors)\n",
        "  if keypoint_locs.shape[0]:\n",
        "    scat.set_offsets(keypoint_locs)\n",
        "\n",
        "  if crop_region is not None:\n",
        "    xmin = max(crop_region['x_min'] * width, 0.0)\n",
        "    ymin = max(crop_region['y_min'] * height, 0.0)\n",
        "    rec_width = min(crop_region['x_max'], 0.99) * width - xmin\n",
        "    rec_height = min(crop_region['y_max'], 0.99) * height - ymin\n",
        "    rect = patches.Rectangle(\n",
        "        (xmin,ymin),rec_width,rec_height,\n",
        "        linewidth=1,edgecolor='b',facecolor='none')\n",
        "    ax.add_patch(rect)\n",
        "\n",
        "  fig.canvas.draw()\n",
        "  image_from_plot = np.frombuffer(fig.canvas.tostring_rgb(), dtype=np.uint8)\n",
        "  image_from_plot = image_from_plot.reshape(\n",
        "      fig.canvas.get_width_height()[::-1] + (3,))\n",
        "  plt.close(fig)\n",
        "  if output_image_height is not None:\n",
        "    output_image_width = int(output_image_height / height * width)\n",
        "    image_from_plot = cv2.resize(\n",
        "        image_from_plot, dsize=(output_image_width, output_image_height),\n",
        "         interpolation=cv2.INTER_CUBIC)\n",
        "  return image_from_plot"
      ]
    },
    {
      "cell_type": "markdown",
      "metadata": {
        "id": "UvrN0iQiOxhR"
      },
      "source": [
        "## Load Model from TF hub"
      ]
    },
    {
      "cell_type": "code",
      "execution_count": 5,
      "metadata": {
        "id": "zeGHgANcT7a1"
      },
      "outputs": [
        {
          "name": "stderr",
          "output_type": "stream",
          "text": [
            "2023-03-28 18:50:40.482013: I tensorflow/compiler/xla/stream_executor/cuda/cuda_gpu_executor.cc:982] could not open file to read NUMA node: /sys/bus/pci/devices/0000:01:00.0/numa_node\n",
            "Your kernel may have been built without NUMA support.\n",
            "2023-03-28 18:50:40.520182: W tensorflow/core/common_runtime/gpu/gpu_device.cc:1956] Cannot dlopen some GPU libraries. Please make sure the missing libraries mentioned above are installed properly if you would like to use GPU. Follow the guide at https://www.tensorflow.org/install/gpu for how to download and setup the required libraries for your platform.\n",
            "Skipping registering GPU devices...\n"
          ]
        }
      ],
      "source": [
        "module = hub.load(\"https://tfhub.dev/google/movenet/singlepose/thunder/4\")\n",
        "model = module.signatures['serving_default']"
      ]
    },
    {
      "cell_type": "code",
      "execution_count": 6,
      "metadata": {
        "id": "VHmTwACwFW-v"
      },
      "outputs": [],
      "source": [
        "def _img_as_input(img_path, img_format, input_size):\n",
        "    image = tf.io.read_file(str(img_path))\n",
        "    # Decode the image based on the image format.\n",
        "    if img_format.lower() == 'jpeg':\n",
        "        image = tf.image.decode_jpeg(image, channels=3)\n",
        "    elif img_format.lower() == 'png':\n",
        "        image = tf.image.decode_png(image, channels=3)\n",
        "    else:\n",
        "        print(f\"Warning: {img_format} format not supported. Decoding as jpeg.\")\n",
        "        image = tf.image.decode_jpeg(image, channels=3)\n",
        "\n",
        "    # Resize and pad the image to keep the aspect ratio and fit the expected size.\n",
        "    input_image = tf.expand_dims(image, axis=0)\n",
        "    input_image = tf.image.resize_with_pad(input_image, input_size, input_size)\n",
        "\n",
        "    # SavedModel format expects tensor type of int32.\n",
        "    input_image = tf.cast(input_image, dtype=tf.int32)\n",
        "    return input_image\n",
        "\n",
        "\n",
        "def _process_single_image(model, img_path, img_format, input_size):\n",
        "    input_image = _img_as_input(img_path, img_format, input_size)\n",
        "    # Run model inference.\n",
        "    outputs = model(input_image)\n",
        "    # Output is a [1, 1, 17, 3] tensor, cords and scores of 17 keypoints.\n",
        "    keypoints_with_scores = outputs['output_0'].numpy()\n",
        "    return keypoints_with_scores\n",
        "\n",
        "\n",
        "def _display_pose(keypoints_with_scores, img_path, img_format, display_size=1280, figsize=(5,5)):\n",
        "    display_image = _img_as_input(img_path, img_format, display_size)\n",
        "\n",
        "    # Visualize the predictions with image.\n",
        "    output_overlay = draw_prediction_on_image(\n",
        "        np.squeeze(display_image.numpy(), axis=0),\n",
        "        keypoints_with_scores\n",
        "    )\n",
        "\n",
        "    plt.figure(figsize=figsize)\n",
        "    plt.imshow(output_overlay)\n",
        "    _ = plt.axis('off')"
      ]
    },
    {
      "attachments": {},
      "cell_type": "markdown",
      "metadata": {},
      "source": [
        "## Single image prediction example"
      ]
    },
    {
      "cell_type": "code",
      "execution_count": 7,
      "metadata": {},
      "outputs": [
        {
          "data": {
            "image/png": "[encoded data removed]",
            "text/plain": [
              "<Figure size 500x500 with 1 Axes>"
            ]
          },
          "metadata": {},
          "output_type": "display_data"
        }
      ],
      "source": [
        "img_path = YOGA_POSES_DIR / \"vriksasana/30-0.png\"\n",
        "img_format = \"PNG\"\n",
        "\n",
        "keypoints_with_scores = _process_single_image(model, img_path, img_format, INPUT_SIZE)\n",
        "\n",
        "_display_pose(keypoints_with_scores, img_path, img_format)"
      ]
    },
    {
      "cell_type": "code",
      "execution_count": 8,
      "metadata": {},
      "outputs": [
        {
          "name": "stdout",
          "output_type": "stream",
          "text": [
            "array([[[[0.09119736, 0.5010747 , 0.5407492 ],\n",
            "         [0.07384965, 0.5191677 , 0.7866914 ],\n",
            "         [0.0759275 , 0.48084843, 0.7349202 ],\n",
            "         [0.08693121, 0.54372525, 0.80505764],\n",
            "         [0.09220451, 0.46333236, 0.7575611 ],\n",
            "         [0.20433834, 0.60157996, 0.9276728 ],\n",
            "         [0.20904766, 0.40768874, 0.72325635],\n",
            "         [0.34672233, 0.6391656 , 0.80089056],\n",
            "         [0.35932365, 0.3904228 , 0.89544755],\n",
            "         [0.26698261, 0.54161066, 0.5949157 ],\n",
            "         [0.26163638, 0.482845  , 0.7549929 ],\n",
            "         [0.46634522, 0.5642695 , 0.89806986],\n",
            "         [0.47100386, 0.4641787 , 0.92412555],\n",
            "         [0.70736486, 0.53611934, 0.8315767 ],\n",
            "         [0.71122885, 0.37318462, 0.84877783],\n",
            "         [0.9222515 , 0.51658607, 0.88228697],\n",
            "         [0.5686346 , 0.5360149 , 0.67653614]]]], dtype=float32)\n"
          ]
        }
      ],
      "source": [
        "pprint(keypoints_with_scores)"
      ]
    },
    {
      "cell_type": "code",
      "execution_count": 9,
      "metadata": {},
      "outputs": [
        {
          "data": {
            "text/html": [
              "<div>\n",
              "<style scoped>\n",
              "    .dataframe tbody tr th:only-of-type {\n",
              "        vertical-align: middle;\n",
              "    }\n",
              "\n",
              "    .dataframe tbody tr th {\n",
              "        vertical-align: top;\n",
              "    }\n",
              "\n",
              "    .dataframe thead th {\n",
              "        text-align: right;\n",
              "    }\n",
              "</style>\n",
              "<table border=\"1\" class=\"dataframe\">\n",
              "  <thead>\n",
              "    <tr style=\"text-align: right;\">\n",
              "      <th></th>\n",
              "      <th>pose</th>\n",
              "      <th>filename</th>\n",
              "      <th>format</th>\n",
              "      <th>width</th>\n",
              "      <th>height</th>\n",
              "    </tr>\n",
              "  </thead>\n",
              "  <tbody>\n",
              "    <tr>\n",
              "      <th>0</th>\n",
              "      <td>hanumanasana</td>\n",
              "      <td>3-0.png</td>\n",
              "      <td>PNG</td>\n",
              "      <td>440</td>\n",
              "      <td>299</td>\n",
              "    </tr>\n",
              "    <tr>\n",
              "      <th>1</th>\n",
              "      <td>hanumanasana</td>\n",
              "      <td>21-0.png</td>\n",
              "      <td>PNG</td>\n",
              "      <td>466</td>\n",
              "      <td>453</td>\n",
              "    </tr>\n",
              "    <tr>\n",
              "      <th>2</th>\n",
              "      <td>hanumanasana</td>\n",
              "      <td>45-0.png</td>\n",
              "      <td>PNG</td>\n",
              "      <td>397</td>\n",
              "      <td>228</td>\n",
              "    </tr>\n",
              "    <tr>\n",
              "      <th>3</th>\n",
              "      <td>hanumanasana</td>\n",
              "      <td>67-0.png</td>\n",
              "      <td>PNG</td>\n",
              "      <td>493</td>\n",
              "      <td>402</td>\n",
              "    </tr>\n",
              "    <tr>\n",
              "      <th>4</th>\n",
              "      <td>hanumanasana</td>\n",
              "      <td>25-0.png</td>\n",
              "      <td>PNG</td>\n",
              "      <td>518</td>\n",
              "      <td>336</td>\n",
              "    </tr>\n",
              "  </tbody>\n",
              "</table>\n",
              "</div>"
            ],
            "text/plain": [
              "           pose  filename format  width  height\n",
              "0  hanumanasana   3-0.png    PNG    440     299\n",
              "1  hanumanasana  21-0.png    PNG    466     453\n",
              "2  hanumanasana  45-0.png    PNG    397     228\n",
              "3  hanumanasana  67-0.png    PNG    493     402\n",
              "4  hanumanasana  25-0.png    PNG    518     336"
            ]
          },
          "execution_count": 9,
          "metadata": {},
          "output_type": "execute_result"
        }
      ],
      "source": [
        "df_metadata = pd.read_csv(YOGA_DATASET_DIR / \"metadata.csv\")\n",
        "df_metadata.head()"
      ]
    },
    {
      "cell_type": "code",
      "execution_count": 10,
      "metadata": {},
      "outputs": [],
      "source": [
        "def _handle_metadata_row(row, model, yoga_poses_dir: Path, input_size: int, keypoint_dict: dict):\n",
        "    img_path = yoga_poses_dir / row[\"pose\"] / row[\"filename\"]\n",
        "    keypoints_with_scores = _process_single_image(model, img_path, row[\"format\"], input_size)\n",
        "    # _display_pose(keypoints_with_scores, img_path, row[\"format\"])\n",
        "    for keypoint in keypoint_dict:\n",
        "        kp_x, kp_y, kp_score = keypoints_with_scores[0][0][keypoint_dict[keypoint]]\n",
        "        row[f\"{keypoint}_x\"] = kp_x\n",
        "        row[f\"{keypoint}_y\"] = kp_y\n",
        "        row[f\"{keypoint}_score\"] = kp_score\n",
        "    return row"
      ]
    },
    {
      "cell_type": "code",
      "execution_count": 13,
      "metadata": {},
      "outputs": [
        {
          "data": {
            "application/vnd.jupyter.widget-view+json": {
              "model_id": "8f257020cea6466f994e83725ff255f0",
              "version_major": 2,
              "version_minor": 0
            },
            "text/plain": [
              "  0%|          | 0/5994 [00:00<?, ?it/s]"
            ]
          },
          "metadata": {},
          "output_type": "display_data"
        },
        {
          "name": "stderr",
          "output_type": "stream",
          "text": [
            "2023-03-28 18:53:02.514637: W tensorflow/core/lib/png/png_io.cc:88] PNG warning: iCCP: known incorrect sRGB profile\n",
            "2023-03-28 18:53:16.406287: W tensorflow/core/lib/png/png_io.cc:88] PNG warning: iCCP: known incorrect sRGB profile\n"
          ]
        },
        {
          "name": "stdout",
          "output_type": "stream",
          "text": [
            "Warning: image format not supported. Decoding as jpeg.\n"
          ]
        },
        {
          "name": "stderr",
          "output_type": "stream",
          "text": [
            "2023-03-28 18:55:09.561420: W tensorflow/core/lib/png/png_io.cc:88] PNG warning: iCCP: known incorrect sRGB profile\n",
            "2023-03-28 18:55:10.649429: W tensorflow/core/lib/png/png_io.cc:88] PNG warning: iCCP: known incorrect sRGB profile\n",
            "2023-03-28 18:55:12.903259: W tensorflow/core/lib/png/png_io.cc:88] PNG warning: cHRM: inconsistent chromaticities\n"
          ]
        },
        {
          "name": "stdout",
          "output_type": "stream",
          "text": [
            "Warning: image format not supported. Decoding as jpeg.\n"
          ]
        },
        {
          "data": {
            "text/html": [
              "<div>\n",
              "<style scoped>\n",
              "    .dataframe tbody tr th:only-of-type {\n",
              "        vertical-align: middle;\n",
              "    }\n",
              "\n",
              "    .dataframe tbody tr th {\n",
              "        vertical-align: top;\n",
              "    }\n",
              "\n",
              "    .dataframe thead th {\n",
              "        text-align: right;\n",
              "    }\n",
              "</style>\n",
              "<table border=\"1\" class=\"dataframe\">\n",
              "  <thead>\n",
              "    <tr style=\"text-align: right;\">\n",
              "      <th></th>\n",
              "      <th>pose</th>\n",
              "      <th>filename</th>\n",
              "      <th>format</th>\n",
              "      <th>width</th>\n",
              "      <th>height</th>\n",
              "      <th>nose_x</th>\n",
              "      <th>nose_y</th>\n",
              "      <th>nose_score</th>\n",
              "      <th>left_eye_x</th>\n",
              "      <th>left_eye_y</th>\n",
              "      <th>...</th>\n",
              "      <th>left_knee_score</th>\n",
              "      <th>right_knee_x</th>\n",
              "      <th>right_knee_y</th>\n",
              "      <th>right_knee_score</th>\n",
              "      <th>left_ankle_x</th>\n",
              "      <th>left_ankle_y</th>\n",
              "      <th>left_ankle_score</th>\n",
              "      <th>right_ankle_x</th>\n",
              "      <th>right_ankle_y</th>\n",
              "      <th>right_ankle_score</th>\n",
              "    </tr>\n",
              "  </thead>\n",
              "  <tbody>\n",
              "    <tr>\n",
              "      <th>0</th>\n",
              "      <td>hanumanasana</td>\n",
              "      <td>3-0.png</td>\n",
              "      <td>PNG</td>\n",
              "      <td>440</td>\n",
              "      <td>299</td>\n",
              "      <td>0.261698</td>\n",
              "      <td>0.512255</td>\n",
              "      <td>0.630277</td>\n",
              "      <td>0.237344</td>\n",
              "      <td>0.517355</td>\n",
              "      <td>...</td>\n",
              "      <td>0.720410</td>\n",
              "      <td>0.722782</td>\n",
              "      <td>0.674401</td>\n",
              "      <td>0.858969</td>\n",
              "      <td>0.683820</td>\n",
              "      <td>0.050615</td>\n",
              "      <td>0.601454</td>\n",
              "      <td>0.795440</td>\n",
              "      <td>0.924660</td>\n",
              "      <td>0.741907</td>\n",
              "    </tr>\n",
              "    <tr>\n",
              "      <th>1</th>\n",
              "      <td>hanumanasana</td>\n",
              "      <td>21-0.png</td>\n",
              "      <td>PNG</td>\n",
              "      <td>466</td>\n",
              "      <td>453</td>\n",
              "      <td>0.394864</td>\n",
              "      <td>0.491497</td>\n",
              "      <td>0.831882</td>\n",
              "      <td>0.370693</td>\n",
              "      <td>0.487102</td>\n",
              "      <td>...</td>\n",
              "      <td>0.849817</td>\n",
              "      <td>0.805349</td>\n",
              "      <td>0.174530</td>\n",
              "      <td>0.807741</td>\n",
              "      <td>0.908731</td>\n",
              "      <td>0.943022</td>\n",
              "      <td>0.840723</td>\n",
              "      <td>0.702517</td>\n",
              "      <td>0.003883</td>\n",
              "      <td>0.777568</td>\n",
              "    </tr>\n",
              "    <tr>\n",
              "      <th>2</th>\n",
              "      <td>hanumanasana</td>\n",
              "      <td>45-0.png</td>\n",
              "      <td>PNG</td>\n",
              "      <td>397</td>\n",
              "      <td>228</td>\n",
              "      <td>0.430713</td>\n",
              "      <td>0.753430</td>\n",
              "      <td>0.800470</td>\n",
              "      <td>0.439265</td>\n",
              "      <td>0.780632</td>\n",
              "      <td>...</td>\n",
              "      <td>0.298566</td>\n",
              "      <td>0.719260</td>\n",
              "      <td>0.579058</td>\n",
              "      <td>0.182867</td>\n",
              "      <td>0.728648</td>\n",
              "      <td>0.731057</td>\n",
              "      <td>0.359210</td>\n",
              "      <td>0.723543</td>\n",
              "      <td>0.732710</td>\n",
              "      <td>0.500341</td>\n",
              "    </tr>\n",
              "    <tr>\n",
              "      <th>3</th>\n",
              "      <td>hanumanasana</td>\n",
              "      <td>67-0.png</td>\n",
              "      <td>PNG</td>\n",
              "      <td>493</td>\n",
              "      <td>402</td>\n",
              "      <td>0.369197</td>\n",
              "      <td>0.440116</td>\n",
              "      <td>0.678368</td>\n",
              "      <td>0.368485</td>\n",
              "      <td>0.460600</td>\n",
              "      <td>...</td>\n",
              "      <td>0.868513</td>\n",
              "      <td>0.786196</td>\n",
              "      <td>0.241361</td>\n",
              "      <td>0.973960</td>\n",
              "      <td>0.854160</td>\n",
              "      <td>0.963011</td>\n",
              "      <td>0.850752</td>\n",
              "      <td>0.808341</td>\n",
              "      <td>0.036816</td>\n",
              "      <td>0.808559</td>\n",
              "    </tr>\n",
              "    <tr>\n",
              "      <th>4</th>\n",
              "      <td>hanumanasana</td>\n",
              "      <td>25-0.png</td>\n",
              "      <td>PNG</td>\n",
              "      <td>518</td>\n",
              "      <td>336</td>\n",
              "      <td>0.262922</td>\n",
              "      <td>0.548760</td>\n",
              "      <td>0.764848</td>\n",
              "      <td>0.245587</td>\n",
              "      <td>0.531681</td>\n",
              "      <td>...</td>\n",
              "      <td>0.888956</td>\n",
              "      <td>0.755988</td>\n",
              "      <td>0.298930</td>\n",
              "      <td>0.832813</td>\n",
              "      <td>0.741362</td>\n",
              "      <td>0.910159</td>\n",
              "      <td>0.891368</td>\n",
              "      <td>0.699116</td>\n",
              "      <td>0.092350</td>\n",
              "      <td>0.673872</td>\n",
              "    </tr>\n",
              "  </tbody>\n",
              "</table>\n",
              "<p>5 rows × 56 columns</p>\n",
              "</div>"
            ],
            "text/plain": [
              "           pose  filename format  width  height    nose_x    nose_y  \\\n",
              "0  hanumanasana   3-0.png    PNG    440     299  0.261698  0.512255   \n",
              "1  hanumanasana  21-0.png    PNG    466     453  0.394864  0.491497   \n",
              "2  hanumanasana  45-0.png    PNG    397     228  0.430713  0.753430   \n",
              "3  hanumanasana  67-0.png    PNG    493     402  0.369197  0.440116   \n",
              "4  hanumanasana  25-0.png    PNG    518     336  0.262922  0.548760   \n",
              "\n",
              "   nose_score  left_eye_x  left_eye_y  ...  left_knee_score  right_knee_x  \\\n",
              "0    0.630277    0.237344    0.517355  ...         0.720410      0.722782   \n",
              "1    0.831882    0.370693    0.487102  ...         0.849817      0.805349   \n",
              "2    0.800470    0.439265    0.780632  ...         0.298566      0.719260   \n",
              "3    0.678368    0.368485    0.460600  ...         0.868513      0.786196   \n",
              "4    0.764848    0.245587    0.531681  ...         0.888956      0.755988   \n",
              "\n",
              "   right_knee_y  right_knee_score  left_ankle_x  left_ankle_y  \\\n",
              "0      0.674401          0.858969      0.683820      0.050615   \n",
              "1      0.174530          0.807741      0.908731      0.943022   \n",
              "2      0.579058          0.182867      0.728648      0.731057   \n",
              "3      0.241361          0.973960      0.854160      0.963011   \n",
              "4      0.298930          0.832813      0.741362      0.910159   \n",
              "\n",
              "   left_ankle_score  right_ankle_x  right_ankle_y  right_ankle_score  \n",
              "0          0.601454       0.795440       0.924660           0.741907  \n",
              "1          0.840723       0.702517       0.003883           0.777568  \n",
              "2          0.359210       0.723543       0.732710           0.500341  \n",
              "3          0.850752       0.808341       0.036816           0.808559  \n",
              "4          0.891368       0.699116       0.092350           0.673872  \n",
              "\n",
              "[5 rows x 56 columns]"
            ]
          },
          "execution_count": 13,
          "metadata": {},
          "output_type": "execute_result"
        }
      ],
      "source": [
        "df = df_metadata.progress_apply(_handle_metadata_row, args=(model, YOGA_POSES_DIR, INPUT_SIZE, KEYPOINT_DICT), axis=1)\n",
        "df.head()"
      ]
    },
    {
      "cell_type": "code",
      "execution_count": 19,
      "metadata": {},
      "outputs": [
        {
          "data": {
            "text/plain": [
              "3732742"
            ]
          },
          "execution_count": 19,
          "metadata": {},
          "output_type": "execute_result"
        }
      ],
      "source": [
        "df.memory_usage(deep=True).sum()"
      ]
    },
    {
      "cell_type": "code",
      "execution_count": 20,
      "metadata": {},
      "outputs": [],
      "source": [
        "df.to_csv(DATA_DIR / \"yoga_ds_with_keypoints.csv\", index=False)"
      ]
    },
    {
      "cell_type": "code",
      "execution_count": null,
      "metadata": {},
      "outputs": [],
      "source": []
    }
  ],
  "metadata": {
    "accelerator": "GPU",
    "colab": {
      "collapsed_sections": [
        "9u_VGR6_BmbZ",
        "5I3xBq80E3N_",
        "L2JmA1xAEntQ"
      ],
      "name": "MoveNet_SinglePose_Demo.ipynb",
      "provenance": [],
      "toc_visible": true
    },
    "kernelspec": {
      "display_name": "Python 3",
      "name": "python3"
    },
    "language_info": {
      "codemirror_mode": {
        "name": "ipython",
        "version": 3
      },
      "file_extension": ".py",
      "mimetype": "text/x-python",
      "name": "python",
      "nbconvert_exporter": "python",
      "pygments_lexer": "ipython3",
      "version": "3.9.16"
    }
  },
  "nbformat": 4,
  "nbformat_minor": 0
}
